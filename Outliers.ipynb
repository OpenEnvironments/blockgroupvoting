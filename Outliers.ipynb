{
 "cells": [
  {
   "cell_type": "code",
   "execution_count": 6,
   "id": "4109251a",
   "metadata": {},
   "outputs": [],
   "source": [
    "import os\n",
    "import pandas as pd\n",
    "from sklearn.preprocessing import StandardScaler\n",
    "\n",
    "filedir = \"D:/Open Environments/data/safegraph/safegraph_open_census_data_2019/data/\"\n",
    "bcgs = os.listdir(filedir)\n",
    "x = pd.read_csv(filedir + bcgs[0])\n",
    "\n",
    "x = x[x.columns[x.columns!='census_block_group']]    # remove the label field\n",
    "x = x.fillna(0)\n",
    "x = StandardScaler().fit_transform(x)"
   ]
  },
  {
   "cell_type": "code",
   "execution_count": 10,
   "id": "15f87773",
   "metadata": {},
   "outputs": [],
   "source": [
    "x = pd.read_csv(filedir + bcgs[0])\n",
    "\n",
    "x = x[x.columns[x.columns!='census_block_group']]    # remove the label field\n",
    "# And we only want to work with columns that are 'estimates'  not  'measures' (margins of error)\n",
    "[col for col in x.columns if 'e' in col]\n",
    "\n",
    "x = x.fillna(0)\n",
    "\n",
    "\n"
   ]
  },
  {
   "cell_type": "code",
   "execution_count": 13,
   "id": "2f89042f",
   "metadata": {},
   "outputs": [],
   "source": [
    "y=(x-x.mean())/x.std()"
   ]
  },
  {
   "cell_type": "code",
   "execution_count": 14,
   "id": "1075ec16",
   "metadata": {},
   "outputs": [
    {
     "data": {
      "text/plain": [
       "(220333, 160)"
      ]
     },
     "execution_count": 14,
     "metadata": {},
     "output_type": "execute_result"
    }
   ],
   "source": [
    "y.shape"
   ]
  },
  {
   "cell_type": "code",
   "execution_count": 17,
   "id": "fa91769a",
   "metadata": {},
   "outputs": [
    {
     "data": {
      "text/plain": [
       "B01001e1     57.093637\n",
       "B01001m1     22.831417\n",
       "B01001e2     53.868643\n",
       "B01001m2     31.038624\n",
       "B01001e3     50.451017\n",
       "               ...    \n",
       "B01002Im2    11.933304\n",
       "B01002Ie3     4.519714\n",
       "B01002Im3    10.497111\n",
       "B01003e1     57.093637\n",
       "B01003m1     22.831417\n",
       "Length: 160, dtype: float64"
      ]
     },
     "execution_count": 17,
     "metadata": {},
     "output_type": "execute_result"
    }
   ],
   "source": [
    "y.max()"
   ]
  },
  {
   "cell_type": "code",
   "execution_count": 36,
   "id": "a5ead418",
   "metadata": {},
   "outputs": [
    {
     "data": {
      "text/plain": [
       "['B01001e1',\n",
       " 'B01001e2',\n",
       " 'B01001e3',\n",
       " 'B01001e4',\n",
       " 'B01001e5',\n",
       " 'B01001e6',\n",
       " 'B01001e7',\n",
       " 'B01001e8',\n",
       " 'B01001e9',\n",
       " 'B01001e10',\n",
       " 'B01001e11',\n",
       " 'B01001e12',\n",
       " 'B01001e13',\n",
       " 'B01001e14',\n",
       " 'B01001e15',\n",
       " 'B01001e16',\n",
       " 'B01001e17',\n",
       " 'B01001e18',\n",
       " 'B01001e19',\n",
       " 'B01001e20',\n",
       " 'B01001e21',\n",
       " 'B01001e22',\n",
       " 'B01001e23',\n",
       " 'B01001e24',\n",
       " 'B01001e25',\n",
       " 'B01001e26',\n",
       " 'B01001e27',\n",
       " 'B01001e28',\n",
       " 'B01001e29',\n",
       " 'B01001e30',\n",
       " 'B01001e31',\n",
       " 'B01001e32',\n",
       " 'B01001e33',\n",
       " 'B01001e34',\n",
       " 'B01001e35',\n",
       " 'B01001e36',\n",
       " 'B01001e37',\n",
       " 'B01001e38',\n",
       " 'B01001e39',\n",
       " 'B01001e40',\n",
       " 'B01001e41',\n",
       " 'B01001e42',\n",
       " 'B01001e43',\n",
       " 'B01001e44',\n",
       " 'B01001e45',\n",
       " 'B01001e46',\n",
       " 'B01001e47',\n",
       " 'B01001e48',\n",
       " 'B01001e49',\n",
       " 'B01002e1',\n",
       " 'B01002e2',\n",
       " 'B01002e3',\n",
       " 'B01002Ae1',\n",
       " 'B01002Ae2',\n",
       " 'B01002Ae3',\n",
       " 'B01002Be1',\n",
       " 'B01002Be2',\n",
       " 'B01002Be3',\n",
       " 'B01002Ce1',\n",
       " 'B01002Ce2',\n",
       " 'B01002Ce3',\n",
       " 'B01002De1',\n",
       " 'B01002De2',\n",
       " 'B01002De3',\n",
       " 'B01002Ee1',\n",
       " 'B01002Ee2',\n",
       " 'B01002Ee3',\n",
       " 'B01002Fe1',\n",
       " 'B01002Fe2',\n",
       " 'B01002Fe3',\n",
       " 'B01002Ge1',\n",
       " 'B01002Ge2',\n",
       " 'B01002Ge3',\n",
       " 'B01002He1',\n",
       " 'B01002He2',\n",
       " 'B01002He3',\n",
       " 'B01002Ie1',\n",
       " 'B01002Ie2',\n",
       " 'B01002Ie3',\n",
       " 'B01003e1']"
      ]
     },
     "execution_count": 36,
     "metadata": {},
     "output_type": "execute_result"
    }
   ],
   "source": []
  },
  {
   "cell_type": "code",
   "execution_count": null,
   "id": "abc86435",
   "metadata": {},
   "outputs": [],
   "source": []
  },
  {
   "cell_type": "code",
   "execution_count": null,
   "id": "f1fc84dd",
   "metadata": {},
   "outputs": [],
   "source": []
  },
  {
   "cell_type": "code",
   "execution_count": null,
   "id": "fea811a8",
   "metadata": {},
   "outputs": [],
   "source": []
  },
  {
   "cell_type": "code",
   "execution_count": null,
   "id": "d802b180",
   "metadata": {},
   "outputs": [],
   "source": []
  },
  {
   "cell_type": "code",
   "execution_count": null,
   "id": "e31a85fe",
   "metadata": {},
   "outputs": [],
   "source": []
  },
  {
   "cell_type": "code",
   "execution_count": null,
   "id": "8187e1cb",
   "metadata": {},
   "outputs": [],
   "source": []
  },
  {
   "cell_type": "code",
   "execution_count": 30,
   "id": "ca605d78",
   "metadata": {},
   "outputs": [
    {
     "ename": "AttributeError",
     "evalue": "'list' object has no attribute 'find'",
     "output_type": "error",
     "traceback": [
      "\u001b[1;31m---------------------------------------------------------------------------\u001b[0m",
      "\u001b[1;31mAttributeError\u001b[0m                            Traceback (most recent call last)",
      "\u001b[1;32m<ipython-input-30-868fee816f05>\u001b[0m in \u001b[0;36m<module>\u001b[1;34m\u001b[0m\n\u001b[1;32m----> 1\u001b[1;33m \u001b[1;33m(\u001b[0m\u001b[1;33m[\u001b[0m\u001b[1;34m'abcd'\u001b[0m\u001b[1;33m,\u001b[0m\u001b[1;34m'ccc'\u001b[0m\u001b[1;33m,\u001b[0m\u001b[1;34m'bbbb'\u001b[0m\u001b[1;33m,\u001b[0m\u001b[1;34m'abcd'\u001b[0m\u001b[1;33m]\u001b[0m\u001b[1;33m)\u001b[0m\u001b[1;33m.\u001b[0m\u001b[0mfind\u001b[0m\u001b[1;33m(\u001b[0m\u001b[1;34m'c'\u001b[0m\u001b[1;33m)\u001b[0m\u001b[1;33m\u001b[0m\u001b[1;33m\u001b[0m\u001b[0m\n\u001b[0m",
      "\u001b[1;31mAttributeError\u001b[0m: 'list' object has no attribute 'find'"
     ]
    }
   ],
   "source": [
    "(['abcd','ccc','bbbb','abcd']).find('c')"
   ]
  },
  {
   "cell_type": "code",
   "execution_count": null,
   "id": "9f108357",
   "metadata": {},
   "outputs": [],
   "source": []
  },
  {
   "cell_type": "code",
   "execution_count": null,
   "id": "55d46713",
   "metadata": {},
   "outputs": [],
   "source": []
  },
  {
   "cell_type": "code",
   "execution_count": null,
   "id": "7c4768a0",
   "metadata": {},
   "outputs": [],
   "source": []
  },
  {
   "cell_type": "code",
   "execution_count": null,
   "id": "34abffaf",
   "metadata": {},
   "outputs": [],
   "source": []
  },
  {
   "cell_type": "code",
   "execution_count": null,
   "id": "3ccd28bb",
   "metadata": {},
   "outputs": [],
   "source": []
  },
  {
   "cell_type": "code",
   "execution_count": null,
   "id": "874a0f93",
   "metadata": {},
   "outputs": [],
   "source": []
  },
  {
   "cell_type": "code",
   "execution_count": null,
   "id": "fc9108fd",
   "metadata": {},
   "outputs": [],
   "source": []
  },
  {
   "cell_type": "code",
   "execution_count": null,
   "id": "bc8d44fd",
   "metadata": {},
   "outputs": [],
   "source": []
  },
  {
   "cell_type": "code",
   "execution_count": null,
   "id": "9d86cb47",
   "metadata": {},
   "outputs": [],
   "source": []
  },
  {
   "cell_type": "code",
   "execution_count": null,
   "id": "201ae9ee",
   "metadata": {},
   "outputs": [],
   "source": []
  },
  {
   "cell_type": "code",
   "execution_count": null,
   "id": "31c8dc5f",
   "metadata": {},
   "outputs": [],
   "source": []
  },
  {
   "cell_type": "code",
   "execution_count": null,
   "id": "9c547c65",
   "metadata": {},
   "outputs": [],
   "source": []
  },
  {
   "cell_type": "code",
   "execution_count": null,
   "id": "89f63b6a",
   "metadata": {},
   "outputs": [],
   "source": []
  },
  {
   "cell_type": "code",
   "execution_count": null,
   "id": "97319fe8",
   "metadata": {},
   "outputs": [],
   "source": []
  },
  {
   "cell_type": "code",
   "execution_count": 12,
   "id": "425c8b6f",
   "metadata": {},
   "outputs": [
    {
     "data": {
      "text/plain": [
       "B01001e1     328016242.0\n",
       "B01001m1      73566854.0\n",
       "B01001e2     161465237.0\n",
       "B01001m2      42853672.0\n",
       "B01001e3      10186190.0\n",
       "                ...     \n",
       "B01002Im2      2143790.9\n",
       "B01002Ie3      3682884.9\n",
       "B01002Im3      2190651.2\n",
       "B01003e1     328016242.0\n",
       "B01003m1      73566854.0\n",
       "Length: 160, dtype: float64"
      ]
     },
     "execution_count": 12,
     "metadata": {},
     "output_type": "execute_result"
    }
   ],
   "source": [
    "x.sum()"
   ]
  },
  {
   "cell_type": "code",
   "execution_count": null,
   "id": "9879609d",
   "metadata": {},
   "outputs": [],
   "source": []
  },
  {
   "cell_type": "code",
   "execution_count": 9,
   "id": "5b40d152",
   "metadata": {},
   "outputs": [
    {
     "data": {
      "text/plain": [
       "4.5724846131633967e-10"
      ]
     },
     "execution_count": 9,
     "metadata": {},
     "output_type": "execute_result"
    }
   ],
   "source": [
    "x.sum()"
   ]
  },
  {
   "cell_type": "code",
   "execution_count": null,
   "id": "eff97bde",
   "metadata": {},
   "outputs": [],
   "source": []
  },
  {
   "cell_type": "code",
   "execution_count": null,
   "id": "944bb5d9",
   "metadata": {},
   "outputs": [],
   "source": []
  },
  {
   "cell_type": "code",
   "execution_count": null,
   "id": "eb458bd8",
   "metadata": {},
   "outputs": [],
   "source": []
  },
  {
   "cell_type": "code",
   "execution_count": null,
   "id": "4c89a355",
   "metadata": {},
   "outputs": [],
   "source": []
  }
 ],
 "metadata": {
  "kernelspec": {
   "display_name": "Python 3",
   "language": "python",
   "name": "python3"
  },
  "language_info": {
   "codemirror_mode": {
    "name": "ipython",
    "version": 3
   },
   "file_extension": ".py",
   "mimetype": "text/x-python",
   "name": "python",
   "nbconvert_exporter": "python",
   "pygments_lexer": "ipython3",
   "version": "3.8.8"
  }
 },
 "nbformat": 4,
 "nbformat_minor": 5
}
